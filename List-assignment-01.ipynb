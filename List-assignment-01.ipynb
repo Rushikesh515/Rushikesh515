{
 "cells": [
  {
   "cell_type": "markdown",
   "id": "4e7ff056",
   "metadata": {},
   "source": [
    "### Write a Python program which accepts a sequence of comma-separated numbers from user and generate a list and a tuple with those numbers.\n",
    "\n",
    "##### Sample data : 3, 5, 7, 23\n",
    "##### Output :\n",
    "##### List : ['3', ' 5', ' 7', ' 23']\n",
    "##### Tuple : ('3', ' 5', ' 7', ' 23')"
   ]
  },
  {
   "cell_type": "code",
   "execution_count": 1,
   "id": "321ab2a3",
   "metadata": {},
   "outputs": [
    {
     "name": "stdout",
     "output_type": "stream",
     "text": [
      "enter 4 number:- 3,5,7,23\n"
     ]
    }
   ],
   "source": [
    "usr_in = input(\"enter 4 number:- \")"
   ]
  },
  {
   "cell_type": "code",
   "execution_count": 2,
   "id": "c8b44a0d",
   "metadata": {},
   "outputs": [
    {
     "data": {
      "text/plain": [
       "'3,5,7,23'"
      ]
     },
     "execution_count": 2,
     "metadata": {},
     "output_type": "execute_result"
    }
   ],
   "source": [
    "usr_in"
   ]
  },
  {
   "cell_type": "code",
   "execution_count": 3,
   "id": "1c736a45",
   "metadata": {},
   "outputs": [
    {
     "data": {
      "text/plain": [
       "str"
      ]
     },
     "execution_count": 3,
     "metadata": {},
     "output_type": "execute_result"
    }
   ],
   "source": [
    "type(usr_in) #type of input"
   ]
  },
  {
   "cell_type": "code",
   "execution_count": 4,
   "id": "6150bf30",
   "metadata": {},
   "outputs": [],
   "source": [
    "usr_in_final = usr_in.split(\",\")"
   ]
  },
  {
   "cell_type": "code",
   "execution_count": 5,
   "id": "bafc2643",
   "metadata": {},
   "outputs": [],
   "source": [
    "usr_in_list = list(usr_in_final) #typecasting from string to list"
   ]
  },
  {
   "cell_type": "code",
   "execution_count": 6,
   "id": "0d4c5437",
   "metadata": {},
   "outputs": [
    {
     "data": {
      "text/plain": [
       "['3', '5', '7', '23']"
      ]
     },
     "execution_count": 6,
     "metadata": {},
     "output_type": "execute_result"
    }
   ],
   "source": [
    "usr_in_list"
   ]
  },
  {
   "cell_type": "code",
   "execution_count": 7,
   "id": "beafca53",
   "metadata": {},
   "outputs": [
    {
     "data": {
      "text/plain": [
       "list"
      ]
     },
     "execution_count": 7,
     "metadata": {},
     "output_type": "execute_result"
    }
   ],
   "source": [
    "type(usr_in_list)"
   ]
  },
  {
   "cell_type": "code",
   "execution_count": 8,
   "id": "9fddfab3",
   "metadata": {},
   "outputs": [],
   "source": [
    "usr_in_tuple = tuple(usr_in_final) #typecsting from string to tuple"
   ]
  },
  {
   "cell_type": "code",
   "execution_count": 9,
   "id": "f82a45b3",
   "metadata": {},
   "outputs": [
    {
     "data": {
      "text/plain": [
       "('3', '5', '7', '23')"
      ]
     },
     "execution_count": 9,
     "metadata": {},
     "output_type": "execute_result"
    }
   ],
   "source": [
    "usr_in_tuple"
   ]
  },
  {
   "cell_type": "code",
   "execution_count": 10,
   "id": "36f18fad",
   "metadata": {},
   "outputs": [
    {
     "data": {
      "text/plain": [
       "tuple"
      ]
     },
     "execution_count": 10,
     "metadata": {},
     "output_type": "execute_result"
    }
   ],
   "source": [
    "type(usr_in_tuple)"
   ]
  },
  {
   "cell_type": "code",
   "execution_count": null,
   "id": "4f5c02e1",
   "metadata": {},
   "outputs": [],
   "source": []
  }
 ],
 "metadata": {
  "kernelspec": {
   "display_name": "Python 3",
   "language": "python",
   "name": "python3"
  },
  "language_info": {
   "codemirror_mode": {
    "name": "ipython",
    "version": 3
   },
   "file_extension": ".py",
   "mimetype": "text/x-python",
   "name": "python",
   "nbconvert_exporter": "python",
   "pygments_lexer": "ipython3",
   "version": "3.8.8"
  }
 },
 "nbformat": 4,
 "nbformat_minor": 5
}
