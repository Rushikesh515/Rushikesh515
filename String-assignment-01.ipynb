{
 "cells": [
  {
   "cell_type": "markdown",
   "id": "456c892b",
   "metadata": {},
   "source": [
    "### Write a Python program to concatenate all elements in a list into a string and return it."
   ]
  },
  {
   "cell_type": "code",
   "execution_count": 1,
   "id": "33b8bc3c",
   "metadata": {},
   "outputs": [],
   "source": [
    "my_list = ['I ', 'am ', 'smart ', 'but ', 'I ', 'dont ', 'study ', 'much']"
   ]
  },
  {
   "cell_type": "code",
   "execution_count": 2,
   "id": "a9441c5d",
   "metadata": {},
   "outputs": [
    {
     "data": {
      "text/plain": [
       "list"
      ]
     },
     "execution_count": 2,
     "metadata": {},
     "output_type": "execute_result"
    }
   ],
   "source": [
    "type(my_list)"
   ]
  },
  {
   "cell_type": "code",
   "execution_count": 3,
   "id": "b8923b9f",
   "metadata": {},
   "outputs": [],
   "source": [
    "def conversion(x):\n",
    "    my_str = \"\"\n",
    "    for item in my_list:\n",
    "        my_str += item\n",
    "    return my_str\n",
    "    "
   ]
  },
  {
   "cell_type": "code",
   "execution_count": 4,
   "id": "3520a78f",
   "metadata": {},
   "outputs": [
    {
     "name": "stdout",
     "output_type": "stream",
     "text": [
      "I am smart but I dont study much\n"
     ]
    }
   ],
   "source": [
    "print(conversion(my_list))"
   ]
  },
  {
   "cell_type": "markdown",
   "id": "56169279",
   "metadata": {},
   "source": [
    "####  list comprehension"
   ]
  },
  {
   "cell_type": "code",
   "execution_count": 5,
   "id": "31304d9f",
   "metadata": {},
   "outputs": [],
   "source": [
    "new_list = ['I', 'am', 25, 'years', 'old']"
   ]
  },
  {
   "cell_type": "code",
   "execution_count": 6,
   "id": "309890e3",
   "metadata": {},
   "outputs": [],
   "source": [
    "new_string = ' '.join([str(i) for i in new_list]) #List comprehention\n",
    "\n",
    "#space.join([string data type (i) for i in new_list])\n",
    "#                typecasting   for every element"
   ]
  },
  {
   "cell_type": "code",
   "execution_count": 7,
   "id": "f9e70535",
   "metadata": {},
   "outputs": [
    {
     "data": {
      "text/plain": [
       "'I am 25 years old'"
      ]
     },
     "execution_count": 7,
     "metadata": {},
     "output_type": "execute_result"
    }
   ],
   "source": [
    "new_string"
   ]
  },
  {
   "cell_type": "code",
   "execution_count": null,
   "id": "37689192",
   "metadata": {},
   "outputs": [],
   "source": []
  }
 ],
 "metadata": {
  "kernelspec": {
   "display_name": "Python 3",
   "language": "python",
   "name": "python3"
  },
  "language_info": {
   "codemirror_mode": {
    "name": "ipython",
    "version": 3
   },
   "file_extension": ".py",
   "mimetype": "text/x-python",
   "name": "python",
   "nbconvert_exporter": "python",
   "pygments_lexer": "ipython3",
   "version": "3.8.8"
  }
 },
 "nbformat": 4,
 "nbformat_minor": 5
}
