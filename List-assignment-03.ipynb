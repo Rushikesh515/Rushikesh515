{
 "cells": [
  {
   "cell_type": "markdown",
   "id": "b7dd64d3",
   "metadata": {},
   "source": [
    "### Write a Python program to print the even numbers from a given list.\n",
    "\n",
    "##### Sample List : [1, 2, 3, 4, 5, 6, 7, 8, 9]\n",
    "##### Expected Result : [2, 4, 6, 8]"
   ]
  },
  {
   "cell_type": "code",
   "execution_count": 1,
   "id": "3ed9547e",
   "metadata": {},
   "outputs": [],
   "source": [
    "Sample_List = [1, 2, 3, 4, 5, 6, 7, 8, 9]"
   ]
  },
  {
   "cell_type": "code",
   "execution_count": 2,
   "id": "2e30f67d",
   "metadata": {},
   "outputs": [],
   "source": [
    "expected = []\n",
    "for i in Sample_List:\n",
    "    if i % 2 == 0:\n",
    "        expected.append(i)"
   ]
  },
  {
   "cell_type": "code",
   "execution_count": 3,
   "id": "20e23fd4",
   "metadata": {},
   "outputs": [
    {
     "data": {
      "text/plain": [
       "[2, 4, 6, 8]"
      ]
     },
     "execution_count": 3,
     "metadata": {},
     "output_type": "execute_result"
    }
   ],
   "source": [
    "expected"
   ]
  },
  {
   "cell_type": "code",
   "execution_count": null,
   "id": "1cbcf5c5",
   "metadata": {},
   "outputs": [],
   "source": []
  }
 ],
 "metadata": {
  "kernelspec": {
   "display_name": "Python 3",
   "language": "python",
   "name": "python3"
  },
  "language_info": {
   "codemirror_mode": {
    "name": "ipython",
    "version": 3
   },
   "file_extension": ".py",
   "mimetype": "text/x-python",
   "name": "python",
   "nbconvert_exporter": "python",
   "pygments_lexer": "ipython3",
   "version": "3.8.8"
  }
 },
 "nbformat": 4,
 "nbformat_minor": 5
}
