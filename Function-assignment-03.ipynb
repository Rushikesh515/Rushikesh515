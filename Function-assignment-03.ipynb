{
 "cells": [
  {
   "cell_type": "markdown",
   "id": "8d6a5e27",
   "metadata": {},
   "source": [
    "###  Write a Python program to count the number 4 in a given list.\n",
    "\n",
    "#### List = [1,4,6,8,4,9,4]"
   ]
  },
  {
   "cell_type": "code",
   "execution_count": 1,
   "id": "6b30d1ca",
   "metadata": {},
   "outputs": [],
   "source": [
    "given_list = [1,4,6,8,4,9,4] #here we need to count all number which are = 4, there are total 3"
   ]
  },
  {
   "cell_type": "code",
   "execution_count": 2,
   "id": "683ab4fd",
   "metadata": {},
   "outputs": [],
   "source": [
    "def count(x):\n",
    "    counter = 0 #counter is set to 0\n",
    "    for item in given_list:\n",
    "        if item == x:         #x is function parameter\n",
    "            counter += 1\n",
    "    return counter\n",
    "        "
   ]
  },
  {
   "cell_type": "code",
   "execution_count": 3,
   "id": "4ed360ab",
   "metadata": {},
   "outputs": [
    {
     "data": {
      "text/plain": [
       "3"
      ]
     },
     "execution_count": 3,
     "metadata": {},
     "output_type": "execute_result"
    }
   ],
   "source": [
    "count(4) #count(this number is list)"
   ]
  },
  {
   "cell_type": "code",
   "execution_count": null,
   "id": "c01d2b87",
   "metadata": {},
   "outputs": [],
   "source": []
  }
 ],
 "metadata": {
  "kernelspec": {
   "display_name": "Python 3",
   "language": "python",
   "name": "python3"
  },
  "language_info": {
   "codemirror_mode": {
    "name": "ipython",
    "version": 3
   },
   "file_extension": ".py",
   "mimetype": "text/x-python",
   "name": "python",
   "nbconvert_exporter": "python",
   "pygments_lexer": "ipython3",
   "version": "3.8.8"
  }
 },
 "nbformat": 4,
 "nbformat_minor": 5
}
