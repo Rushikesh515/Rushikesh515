{
 "cells": [
  {
   "cell_type": "markdown",
   "id": "0a716852",
   "metadata": {},
   "source": [
    "### Write a Python program to display the first and last colors from the following list.\n",
    "\n",
    "##### color_list = [\"Red\",\"Green\",\"White\" ,\"Black\"]"
   ]
  },
  {
   "cell_type": "code",
   "execution_count": 1,
   "id": "4b6d1af1",
   "metadata": {},
   "outputs": [],
   "source": [
    "color_list = [\"Red\",\"Green\",\"White\" ,\"Black\"]"
   ]
  },
  {
   "cell_type": "code",
   "execution_count": 2,
   "id": "003f640d",
   "metadata": {},
   "outputs": [
    {
     "name": "stdout",
     "output_type": "stream",
     "text": [
      "Red Black\n"
     ]
    }
   ],
   "source": [
    "print(color_list[0], color_list[-1])"
   ]
  },
  {
   "cell_type": "code",
   "execution_count": null,
   "id": "678128c6",
   "metadata": {},
   "outputs": [],
   "source": []
  }
 ],
 "metadata": {
  "kernelspec": {
   "display_name": "Python 3",
   "language": "python",
   "name": "python3"
  },
  "language_info": {
   "codemirror_mode": {
    "name": "ipython",
    "version": 3
   },
   "file_extension": ".py",
   "mimetype": "text/x-python",
   "name": "python",
   "nbconvert_exporter": "python",
   "pygments_lexer": "ipython3",
   "version": "3.8.8"
  }
 },
 "nbformat": 4,
 "nbformat_minor": 5
}
