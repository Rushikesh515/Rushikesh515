{
 "cells": [
  {
   "cell_type": "markdown",
   "id": "cfc9cf63",
   "metadata": {},
   "source": [
    "### Write a Python program that prints all the numbers from 0 to 6 except 3 and 6.\n",
    "\n",
    "##### Note : Use 'continue' statement.\n",
    "\n",
    "##### Expected Output : 0 1 2 4 5"
   ]
  },
  {
   "cell_type": "code",
   "execution_count": 1,
   "id": "5d7dfb02",
   "metadata": {},
   "outputs": [],
   "source": [
    "def numbers():  #function without argument\n",
    "    for item in range(0, 7): #o including and 7 excluding from range.\n",
    "        if item % 3 == 0:\n",
    "            continue  #used to skip iteration when condition is satifies\n",
    "        print(item)\n",
    "# in place of for loop we can define min, max arguments in function, and pass two arguments on fuctions."
   ]
  },
  {
   "cell_type": "code",
   "execution_count": 2,
   "id": "a5ec891d",
   "metadata": {},
   "outputs": [
    {
     "name": "stdout",
     "output_type": "stream",
     "text": [
      "1\n",
      "2\n",
      "4\n",
      "5\n"
     ]
    }
   ],
   "source": [
    "numbers()"
   ]
  },
  {
   "cell_type": "code",
   "execution_count": null,
   "id": "79b8ab62",
   "metadata": {},
   "outputs": [],
   "source": []
  }
 ],
 "metadata": {
  "kernelspec": {
   "display_name": "Python 3",
   "language": "python",
   "name": "python3"
  },
  "language_info": {
   "codemirror_mode": {
    "name": "ipython",
    "version": 3
   },
   "file_extension": ".py",
   "mimetype": "text/x-python",
   "name": "python",
   "nbconvert_exporter": "python",
   "pygments_lexer": "ipython3",
   "version": "3.8.8"
  }
 },
 "nbformat": 4,
 "nbformat_minor": 5
}
