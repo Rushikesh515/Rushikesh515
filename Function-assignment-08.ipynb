{
 "cells": [
  {
   "cell_type": "markdown",
   "id": "caeb9ef0",
   "metadata": {},
   "source": [
    "### Write a Python function that takes a list and returns a new list with unique elements of the first list.\n",
    "\n",
    "##### Sample List : [1,2,3,3,3,3,4,5]\n",
    "\n",
    "##### Unique List : [1, 2, 3, 4, 5]"
   ]
  },
  {
   "cell_type": "code",
   "execution_count": 1,
   "id": "2f35c89d",
   "metadata": {},
   "outputs": [],
   "source": [
    "import numpy as np #to make list unique"
   ]
  },
  {
   "cell_type": "code",
   "execution_count": 2,
   "id": "67ea7b32",
   "metadata": {},
   "outputs": [],
   "source": [
    "def input_from_user():\n",
    "    \n",
    "    elements = int(input(\"Enter the number of elements for list:- \"))\n",
    "    i = 1\n",
    "    user_list = []\n",
    "    while i <= elements:\n",
    "            value = int(input(\"enter element:- \"))\n",
    "            user_list.append(value)\n",
    "            i += 1\n",
    "    print(\"user_list = \", user_list)\n",
    "    #print(\"user_list type:- \", type(user_list))\n",
    "    \n",
    "### Making list unique\n",
    "\n",
    "    x = np.array(user_list) # Converted list into array using numpy.array(value)\n",
    "    unique_list = np.unique(x) # finding unique values from array using numpy.unique(value)\n",
    "    print(\"unique_list = \", unique_list)\n",
    "    #print(\"unique_list type:- \", type(unique_list))\n",
    "    \n",
    "    "
   ]
  },
  {
   "cell_type": "code",
   "execution_count": 3,
   "id": "9ab144c5",
   "metadata": {},
   "outputs": [
    {
     "name": "stdout",
     "output_type": "stream",
     "text": [
      "Enter the number of elements for list:- 6\n",
      "enter element:- 1\n",
      "enter element:- 1\n",
      "enter element:- 1\n",
      "enter element:- 2\n",
      "enter element:- 3\n",
      "enter element:- 4\n",
      "user_list =  [1, 1, 1, 2, 3, 4]\n",
      "unique_list =  [1 2 3 4]\n"
     ]
    }
   ],
   "source": [
    "input_from_user()"
   ]
  },
  {
   "cell_type": "code",
   "execution_count": null,
   "id": "71ea6765",
   "metadata": {},
   "outputs": [],
   "source": []
  }
 ],
 "metadata": {
  "kernelspec": {
   "display_name": "Python 3",
   "language": "python",
   "name": "python3"
  },
  "language_info": {
   "codemirror_mode": {
    "name": "ipython",
    "version": 3
   },
   "file_extension": ".py",
   "mimetype": "text/x-python",
   "name": "python",
   "nbconvert_exporter": "python",
   "pygments_lexer": "ipython3",
   "version": "3.8.8"
  }
 },
 "nbformat": 4,
 "nbformat_minor": 5
}
