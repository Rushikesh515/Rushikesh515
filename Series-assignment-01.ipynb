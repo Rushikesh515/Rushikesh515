{
 "cells": [
  {
   "cell_type": "markdown",
   "id": "34c14972",
   "metadata": {},
   "source": [
    "### Write a Python program to add, subtract, multiple and divide two Pandas Series.\n",
    "\n",
    "###### Sample Series: [2, 4, 6, 8, 10], [1, 3, 5, 7, 9]"
   ]
  },
  {
   "cell_type": "code",
   "execution_count": 1,
   "id": "89224b71",
   "metadata": {},
   "outputs": [],
   "source": [
    "listA = [2, 4, 6, 8, 10]\n",
    "listB = [1, 3, 5, 7, 9]"
   ]
  },
  {
   "cell_type": "code",
   "execution_count": 2,
   "id": "289dbf25",
   "metadata": {},
   "outputs": [
    {
     "data": {
      "text/plain": [
       "list"
      ]
     },
     "execution_count": 2,
     "metadata": {},
     "output_type": "execute_result"
    }
   ],
   "source": [
    "type(listA)"
   ]
  },
  {
   "cell_type": "code",
   "execution_count": 3,
   "id": "19e6843e",
   "metadata": {},
   "outputs": [
    {
     "data": {
      "text/plain": [
       "list"
      ]
     },
     "execution_count": 3,
     "metadata": {},
     "output_type": "execute_result"
    }
   ],
   "source": [
    "type(listB)"
   ]
  },
  {
   "cell_type": "code",
   "execution_count": 4,
   "id": "a1cb6ad1",
   "metadata": {},
   "outputs": [],
   "source": [
    "import pandas as pd"
   ]
  },
  {
   "cell_type": "code",
   "execution_count": 5,
   "id": "4fb65996",
   "metadata": {},
   "outputs": [],
   "source": [
    "series_A = pd.Series(listA)\n",
    "series_B = pd.Series(listB)"
   ]
  },
  {
   "cell_type": "code",
   "execution_count": 6,
   "id": "dcc4fff4",
   "metadata": {},
   "outputs": [
    {
     "data": {
      "text/plain": [
       "pandas.core.series.Series"
      ]
     },
     "execution_count": 6,
     "metadata": {},
     "output_type": "execute_result"
    }
   ],
   "source": [
    "type(series_A)"
   ]
  },
  {
   "cell_type": "code",
   "execution_count": 7,
   "id": "af8ad513",
   "metadata": {},
   "outputs": [
    {
     "data": {
      "text/plain": [
       "pandas.core.series.Series"
      ]
     },
     "execution_count": 7,
     "metadata": {},
     "output_type": "execute_result"
    }
   ],
   "source": [
    "type(series_B)"
   ]
  },
  {
   "cell_type": "markdown",
   "id": "d01a1488",
   "metadata": {},
   "source": [
    "#### Calculation in Series"
   ]
  },
  {
   "cell_type": "code",
   "execution_count": 8,
   "id": "73ffb849",
   "metadata": {},
   "outputs": [],
   "source": [
    "z = series_A + series_B"
   ]
  },
  {
   "cell_type": "code",
   "execution_count": 9,
   "id": "896737c0",
   "metadata": {},
   "outputs": [
    {
     "data": {
      "text/plain": [
       "0     3\n",
       "1     7\n",
       "2    11\n",
       "3    15\n",
       "4    19\n",
       "dtype: int64"
      ]
     },
     "execution_count": 9,
     "metadata": {},
     "output_type": "execute_result"
    }
   ],
   "source": [
    "z"
   ]
  },
  {
   "cell_type": "code",
   "execution_count": 10,
   "id": "1033f749",
   "metadata": {},
   "outputs": [
    {
     "data": {
      "text/plain": [
       "pandas.core.series.Series"
      ]
     },
     "execution_count": 10,
     "metadata": {},
     "output_type": "execute_result"
    }
   ],
   "source": [
    "type(z)"
   ]
  },
  {
   "cell_type": "code",
   "execution_count": 11,
   "id": "c50592df",
   "metadata": {},
   "outputs": [],
   "source": [
    "def calculation(a, b):\n",
    "    print(\"Choose the Operation\")\n",
    "    print(\"1. ADDITION\")\n",
    "    print(\"2. SUBSTRACTION\")\n",
    "    print(\"3. MULTIPLICATION\")\n",
    "    print(\"4. DIVISION\")\n",
    "    ch = int(input())\n",
    "    if ch == 1:\n",
    "        addition(a, b)\n",
    "    elif ch == 2:\n",
    "        substraction(a, b)\n",
    "    elif ch == 3:\n",
    "        multiplication(a, b)\n",
    "    elif ch == 4:\n",
    "        division(a, b)"
   ]
  },
  {
   "cell_type": "code",
   "execution_count": 12,
   "id": "7c23ec88",
   "metadata": {},
   "outputs": [],
   "source": [
    "def addition(a, b):\n",
    "        ans = a + b\n",
    "        print(\"Addition of given Series: \\n\", ans)"
   ]
  },
  {
   "cell_type": "code",
   "execution_count": 13,
   "id": "60414b8c",
   "metadata": {},
   "outputs": [],
   "source": [
    "def substraction(a, b):\n",
    "        ans = a - b\n",
    "        print(\"Substraction of given Series: \\n\", ans)"
   ]
  },
  {
   "cell_type": "code",
   "execution_count": 14,
   "id": "cb672337",
   "metadata": {},
   "outputs": [],
   "source": [
    "def multiplication(a, b):\n",
    "        ans = a * b\n",
    "        print(\"Multiplication of given Series: \\n\", ans)"
   ]
  },
  {
   "cell_type": "code",
   "execution_count": 15,
   "id": "24de6d7a",
   "metadata": {},
   "outputs": [],
   "source": [
    "def division(a, b):\n",
    "        ans = a / b\n",
    "        print(\"Division of given Series: \\n\", ans)"
   ]
  },
  {
   "cell_type": "code",
   "execution_count": 16,
   "id": "ef4e87ee",
   "metadata": {},
   "outputs": [
    {
     "name": "stdout",
     "output_type": "stream",
     "text": [
      "Choose the Operation\n",
      "1. ADDITION\n",
      "2. SUBSTRACTION\n",
      "3. MULTIPLICATION\n",
      "4. DIVISION\n",
      "1\n",
      "Addition of given Series: \n",
      " 0     3\n",
      "1     7\n",
      "2    11\n",
      "3    15\n",
      "4    19\n",
      "dtype: int64\n"
     ]
    }
   ],
   "source": [
    "calculation(series_A, series_B) #Addition"
   ]
  },
  {
   "cell_type": "code",
   "execution_count": 17,
   "id": "380fdd89",
   "metadata": {},
   "outputs": [
    {
     "name": "stdout",
     "output_type": "stream",
     "text": [
      "Choose the Operation\n",
      "1. ADDITION\n",
      "2. SUBSTRACTION\n",
      "3. MULTIPLICATION\n",
      "4. DIVISION\n",
      "2\n",
      "Substraction of given Series: \n",
      " 0    1\n",
      "1    1\n",
      "2    1\n",
      "3    1\n",
      "4    1\n",
      "dtype: int64\n"
     ]
    }
   ],
   "source": [
    "calculation(series_A, series_B) #Substraction"
   ]
  },
  {
   "cell_type": "code",
   "execution_count": 18,
   "id": "c6d709d7",
   "metadata": {},
   "outputs": [
    {
     "name": "stdout",
     "output_type": "stream",
     "text": [
      "Choose the Operation\n",
      "1. ADDITION\n",
      "2. SUBSTRACTION\n",
      "3. MULTIPLICATION\n",
      "4. DIVISION\n",
      "3\n",
      "Multiplication of given Series: \n",
      " 0     2\n",
      "1    12\n",
      "2    30\n",
      "3    56\n",
      "4    90\n",
      "dtype: int64\n"
     ]
    }
   ],
   "source": [
    "calculation(series_A, series_B) #Multiplication"
   ]
  },
  {
   "cell_type": "code",
   "execution_count": 19,
   "id": "47acebca",
   "metadata": {},
   "outputs": [
    {
     "name": "stdout",
     "output_type": "stream",
     "text": [
      "Choose the Operation\n",
      "1. ADDITION\n",
      "2. SUBSTRACTION\n",
      "3. MULTIPLICATION\n",
      "4. DIVISION\n",
      "4\n",
      "Division of given Series: \n",
      " 0    2.000000\n",
      "1    1.333333\n",
      "2    1.200000\n",
      "3    1.142857\n",
      "4    1.111111\n",
      "dtype: float64\n"
     ]
    }
   ],
   "source": [
    "calculation(series_A, series_B) #Division"
   ]
  },
  {
   "cell_type": "code",
   "execution_count": null,
   "id": "9e856e2b",
   "metadata": {},
   "outputs": [],
   "source": []
  }
 ],
 "metadata": {
  "kernelspec": {
   "display_name": "Python 3",
   "language": "python",
   "name": "python3"
  },
  "language_info": {
   "codemirror_mode": {
    "name": "ipython",
    "version": 3
   },
   "file_extension": ".py",
   "mimetype": "text/x-python",
   "name": "python",
   "nbconvert_exporter": "python",
   "pygments_lexer": "ipython3",
   "version": "3.8.8"
  }
 },
 "nbformat": 4,
 "nbformat_minor": 5
}
