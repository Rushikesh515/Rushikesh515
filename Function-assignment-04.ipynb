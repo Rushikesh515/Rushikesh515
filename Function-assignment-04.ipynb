{
 "cells": [
  {
   "cell_type": "markdown",
   "id": "60874dc1",
   "metadata": {},
   "source": [
    "### Write a Python program to print all even numbers from a given numbers list in the same order and stop the printing if any numbers that come after 237 in the sequence. Go to the editorSample numbers list :\n",
    "\n",
    "##### [399, 162, 758, 219, 918, 237, 412, 566, 826, 248, 866, 950, 626, 949, 687, 217, 815, 67, 104, 58, 512, 24, 892, 894, 767, 553, 81, 379, 843, 831, 445, 742, 717, 958,743, 527]"
   ]
  },
  {
   "cell_type": "code",
   "execution_count": 2,
   "id": "9fff4206",
   "metadata": {},
   "outputs": [],
   "source": [
    "num_list = [399, 162, 758, 219, 918, 237, 412, 566, 826, 248, 866, 950, 626, 949, 687, 217, 815, 67,\n",
    "            104, 58, 512, 24, 892, 894, 767, 553, 81, 379, 843, 831, 445, 742, 717, 958,743, 527]"
   ]
  },
  {
   "cell_type": "code",
   "execution_count": 3,
   "id": "c624c711",
   "metadata": {},
   "outputs": [],
   "source": [
    "def function():\n",
    "    for i in num_list:\n",
    "        if i == 237:\n",
    "            print(i)\n",
    "            break  #used to break out a for loop, or a while loop when condition is satisfied.\n",
    "        elif i % 2 == 0:\n",
    "            print(i)\n",
    "        "
   ]
  },
  {
   "cell_type": "code",
   "execution_count": 4,
   "id": "ebcb4b13",
   "metadata": {},
   "outputs": [
    {
     "name": "stdout",
     "output_type": "stream",
     "text": [
      "162\n",
      "758\n",
      "918\n",
      "237\n"
     ]
    }
   ],
   "source": [
    "function()"
   ]
  },
  {
   "cell_type": "code",
   "execution_count": null,
   "id": "7664ca09",
   "metadata": {},
   "outputs": [],
   "source": []
  }
 ],
 "metadata": {
  "kernelspec": {
   "display_name": "Python 3",
   "language": "python",
   "name": "python3"
  },
  "language_info": {
   "codemirror_mode": {
    "name": "ipython",
    "version": 3
   },
   "file_extension": ".py",
   "mimetype": "text/x-python",
   "name": "python",
   "nbconvert_exporter": "python",
   "pygments_lexer": "ipython3",
   "version": "3.8.8"
  }
 },
 "nbformat": 4,
 "nbformat_minor": 5
}
