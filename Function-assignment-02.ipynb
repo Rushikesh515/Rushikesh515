{
 "cells": [
  {
   "cell_type": "markdown",
   "id": "844d4da4",
   "metadata": {},
   "source": [
    "### Write a Python program to calculate the sum of three given numbers, if the values are equal then return three times of their sum hint: write User defined functions."
   ]
  },
  {
   "cell_type": "code",
   "execution_count": 1,
   "id": "a07dae59",
   "metadata": {},
   "outputs": [
    {
     "name": "stdout",
     "output_type": "stream",
     "text": [
      "Enter 1st number:- 5\n",
      "Enter 2nd number:- 4\n",
      "Enter 3rd number:- 3\n"
     ]
    }
   ],
   "source": [
    "a1 = int(input(\"Enter 1st number:- \"))\n",
    "a2 = int(input(\"Enter 2nd number:- \"))\n",
    "a3 = int(input(\"Enter 3rd number:- \"))"
   ]
  },
  {
   "cell_type": "code",
   "execution_count": 2,
   "id": "355a773a",
   "metadata": {},
   "outputs": [],
   "source": [
    "def equal(x1, x2, x3):\n",
    "    if x1 == x2 == x3:\n",
    "        print(\"3 times of sum is:- \", (x1 * x2 * x3))\n",
    "    else:\n",
    "        print(\"Sum is:- \", x1 + x2 + x3)"
   ]
  },
  {
   "cell_type": "code",
   "execution_count": 3,
   "id": "089396bc",
   "metadata": {},
   "outputs": [
    {
     "name": "stdout",
     "output_type": "stream",
     "text": [
      "Sum is:-  12\n"
     ]
    }
   ],
   "source": [
    "equal(a1, a2, a3)"
   ]
  },
  {
   "cell_type": "code",
   "execution_count": 4,
   "id": "616c800e",
   "metadata": {},
   "outputs": [
    {
     "name": "stdout",
     "output_type": "stream",
     "text": [
      "Enter 1st number:- 4\n",
      "Enter 2nd number:- 4\n",
      "Enter 3rd number:- 4\n"
     ]
    }
   ],
   "source": [
    "b1 = int(input(\"Enter 1st number:- \"))\n",
    "b2 = int(input(\"Enter 2nd number:- \"))\n",
    "b3 = int(input(\"Enter 3rd number:- \"))"
   ]
  },
  {
   "cell_type": "code",
   "execution_count": 5,
   "id": "b129a6da",
   "metadata": {},
   "outputs": [
    {
     "name": "stdout",
     "output_type": "stream",
     "text": [
      "3 times of sum is:-  64\n"
     ]
    }
   ],
   "source": [
    "equal(b1, b2, b3)"
   ]
  },
  {
   "cell_type": "code",
   "execution_count": null,
   "id": "4c0e3335",
   "metadata": {},
   "outputs": [],
   "source": []
  }
 ],
 "metadata": {
  "kernelspec": {
   "display_name": "Python 3",
   "language": "python",
   "name": "python3"
  },
  "language_info": {
   "codemirror_mode": {
    "name": "ipython",
    "version": 3
   },
   "file_extension": ".py",
   "mimetype": "text/x-python",
   "name": "python",
   "nbconvert_exporter": "python",
   "pygments_lexer": "ipython3",
   "version": "3.8.8"
  }
 },
 "nbformat": 4,
 "nbformat_minor": 5
}
