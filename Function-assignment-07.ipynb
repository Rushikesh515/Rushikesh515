{
 "cells": [
  {
   "cell_type": "markdown",
   "id": "bba7e0b7",
   "metadata": {},
   "source": [
    "### Write a Python program to get the Fibonacci series between 0 to 50.\n",
    "\n",
    "###### Note : The Fibonacci Sequence is the series of numbers :\n",
    "\n",
    "###### 0, 1, 1, 2, 3, 5, 8, 13, 21, ....\n",
    "\n",
    "###### Every next number is found by adding up the two numbers before it.\n",
    "\n",
    "###### Expected Output : 1 1 2 3 5 8 13 21 34"
   ]
  },
  {
   "cell_type": "code",
   "execution_count": 1,
   "id": "692c8c81",
   "metadata": {},
   "outputs": [],
   "source": [
    "### fibonacci formula \n",
    "\n",
    "\n",
    "#Fn = Fn-1 + Fn-2, where n > 1"
   ]
  },
  {
   "cell_type": "code",
   "execution_count": 2,
   "id": "e52a844e",
   "metadata": {},
   "outputs": [],
   "source": [
    "def fibonacci(x, y):\n",
    "    while y<50:\n",
    "        print(y)   \n",
    "        x, y = y, x + y\n",
    "        \n",
    "#x, y = y, x+y\n",
    "#x is assigned y\n",
    "#y is assigned x+y"
   ]
  },
  {
   "cell_type": "code",
   "execution_count": 3,
   "id": "7c0383e7",
   "metadata": {},
   "outputs": [
    {
     "name": "stdout",
     "output_type": "stream",
     "text": [
      "1\n",
      "1\n",
      "2\n",
      "3\n",
      "5\n",
      "8\n",
      "13\n",
      "21\n",
      "34\n"
     ]
    }
   ],
   "source": [
    "fibonacci(0, 1) #passing firdt 2 elemets for staring calculation"
   ]
  },
  {
   "cell_type": "code",
   "execution_count": null,
   "id": "158ed324",
   "metadata": {},
   "outputs": [],
   "source": []
  }
 ],
 "metadata": {
  "kernelspec": {
   "display_name": "Python 3",
   "language": "python",
   "name": "python3"
  },
  "language_info": {
   "codemirror_mode": {
    "name": "ipython",
    "version": 3
   },
   "file_extension": ".py",
   "mimetype": "text/x-python",
   "name": "python",
   "nbconvert_exporter": "python",
   "pygments_lexer": "ipython3",
   "version": "3.8.8"
  }
 },
 "nbformat": 4,
 "nbformat_minor": 5
}
