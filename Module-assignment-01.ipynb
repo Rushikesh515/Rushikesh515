{
 "cells": [
  {
   "cell_type": "markdown",
   "id": "bcf307cb",
   "metadata": {},
   "source": [
    "### Write a Python program to calculate number of days between two dates. Hint: use Datetime package/module.\n",
    "\n",
    "##### Sample dates : (2014, 7, 2), (2014, 7, 11)\n",
    "##### Expected output : 9 days"
   ]
  },
  {
   "cell_type": "code",
   "execution_count": 6,
   "id": "a230702a",
   "metadata": {},
   "outputs": [],
   "source": [
    "import datetime as dt"
   ]
  },
  {
   "cell_type": "code",
   "execution_count": 8,
   "id": "6eebc83d",
   "metadata": {},
   "outputs": [],
   "source": [
    "start_date = dt.date(2014, 7, 2)\n",
    "last_date = dt.date(2014, 7, 11)"
   ]
  },
  {
   "cell_type": "code",
   "execution_count": 9,
   "id": "c073d47f",
   "metadata": {},
   "outputs": [],
   "source": [
    "diffrence = last_date - start_date"
   ]
  },
  {
   "cell_type": "code",
   "execution_count": 10,
   "id": "0d38ea2c",
   "metadata": {},
   "outputs": [
    {
     "data": {
      "text/plain": [
       "datetime.timedelta(days=9)"
      ]
     },
     "execution_count": 10,
     "metadata": {},
     "output_type": "execute_result"
    }
   ],
   "source": [
    "diffrence"
   ]
  },
  {
   "cell_type": "code",
   "execution_count": 11,
   "id": "2bec463e",
   "metadata": {},
   "outputs": [
    {
     "data": {
      "text/plain": [
       "9"
      ]
     },
     "execution_count": 11,
     "metadata": {},
     "output_type": "execute_result"
    }
   ],
   "source": [
    "diffrence.days"
   ]
  },
  {
   "cell_type": "code",
   "execution_count": null,
   "id": "e68ed0d1",
   "metadata": {},
   "outputs": [],
   "source": []
  }
 ],
 "metadata": {
  "kernelspec": {
   "display_name": "Python 3",
   "language": "python",
   "name": "python3"
  },
  "language_info": {
   "codemirror_mode": {
    "name": "ipython",
    "version": 3
   },
   "file_extension": ".py",
   "mimetype": "text/x-python",
   "name": "python",
   "nbconvert_exporter": "python",
   "pygments_lexer": "ipython3",
   "version": "3.8.8"
  }
 },
 "nbformat": 4,
 "nbformat_minor": 5
}
