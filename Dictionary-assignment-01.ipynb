{
 "cells": [
  {
   "cell_type": "markdown",
   "id": "8167f317",
   "metadata": {},
   "source": [
    "### Write a Python script to concatenate following dictionaries to create a new one.\n",
    "\n",
    "##### Sample Dictionary :\n",
    "\n",
    "##### dic1={1:10, 2:20}\n",
    "\n",
    "##### dic2={3:30, 4:40}\n",
    "\n",
    "##### dic3={5:50,6:60}\n",
    "\n",
    "##### Expected Result : {1: 10, 2: 20, 3: 30, 4: 40, 5: 50, 6: 60}"
   ]
  },
  {
   "cell_type": "code",
   "execution_count": 1,
   "id": "b77577cf",
   "metadata": {},
   "outputs": [],
   "source": [
    "dic1={1:10, 2:20}\n",
    "dic2={3:30, 4:40}\n",
    "dic3={5:50,6:60}"
   ]
  },
  {
   "cell_type": "code",
   "execution_count": 2,
   "id": "e2ec0925",
   "metadata": {},
   "outputs": [
    {
     "data": {
      "text/plain": [
       "{1: 10, 2: 20}"
      ]
     },
     "execution_count": 2,
     "metadata": {},
     "output_type": "execute_result"
    }
   ],
   "source": [
    "dic1"
   ]
  },
  {
   "cell_type": "code",
   "execution_count": 3,
   "id": "87519be5",
   "metadata": {},
   "outputs": [
    {
     "data": {
      "text/plain": [
       "{3: 30, 4: 40}"
      ]
     },
     "execution_count": 3,
     "metadata": {},
     "output_type": "execute_result"
    }
   ],
   "source": [
    "dic2"
   ]
  },
  {
   "cell_type": "code",
   "execution_count": 4,
   "id": "f3743c49",
   "metadata": {},
   "outputs": [
    {
     "data": {
      "text/plain": [
       "{5: 50, 6: 60}"
      ]
     },
     "execution_count": 4,
     "metadata": {},
     "output_type": "execute_result"
    }
   ],
   "source": [
    "dic3"
   ]
  },
  {
   "cell_type": "code",
   "execution_count": 5,
   "id": "fa4efc68",
   "metadata": {},
   "outputs": [],
   "source": [
    "def dictionary(dic1, dic2, dic3):\n",
    "    final_dictionary = {}\n",
    "    for item in (dic1, dic2, dic3):\n",
    "        final_dictionary.update(item)\n",
    "    print(final_dictionary)\n",
    "    "
   ]
  },
  {
   "cell_type": "code",
   "execution_count": 6,
   "id": "0702b25b",
   "metadata": {},
   "outputs": [
    {
     "name": "stdout",
     "output_type": "stream",
     "text": [
      "{1: 10, 2: 20, 3: 30, 4: 40, 5: 50, 6: 60}\n"
     ]
    }
   ],
   "source": [
    "dictionary(dic1, dic2, dic3)"
   ]
  }
 ],
 "metadata": {
  "kernelspec": {
   "display_name": "Python 3",
   "language": "python",
   "name": "python3"
  },
  "language_info": {
   "codemirror_mode": {
    "name": "ipython",
    "version": 3
   },
   "file_extension": ".py",
   "mimetype": "text/x-python",
   "name": "python",
   "nbconvert_exporter": "python",
   "pygments_lexer": "ipython3",
   "version": "3.8.8"
  }
 },
 "nbformat": 4,
 "nbformat_minor": 5
}
